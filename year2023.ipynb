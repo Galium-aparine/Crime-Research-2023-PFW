{
 "cells": [
  {
   "cell_type": "code",
   "execution_count": 1,
   "metadata": {},
   "outputs": [],
   "source": [
    "import pandas as pd\n",
    "import matplotlib.pyplot as plt \n",
    "import re\n",
    "import numpy as np\n",
    "import pickle\n",
    "from geopy.geocoders import Nominatim\n",
    "from geopy.exc import GeocoderTimedOut\n",
    "from geopy.exc import GeocoderUnavailable\n",
    "from time import sleep"
   ]
  },
  {
   "cell_type": "markdown",
   "metadata": {},
   "source": [
    "##### reading in data "
   ]
  },
  {
   "cell_type": "code",
   "execution_count": 2,
   "metadata": {},
   "outputs": [
    {
     "data": {
      "text/html": [
       "<div>\n",
       "<style scoped>\n",
       "    .dataframe tbody tr th:only-of-type {\n",
       "        vertical-align: middle;\n",
       "    }\n",
       "\n",
       "    .dataframe tbody tr th {\n",
       "        vertical-align: top;\n",
       "    }\n",
       "\n",
       "    .dataframe thead th {\n",
       "        text-align: right;\n",
       "    }\n",
       "</style>\n",
       "<table border=\"1\" class=\"dataframe\">\n",
       "  <thead>\n",
       "    <tr style=\"text-align: right;\">\n",
       "      <th></th>\n",
       "      <th>Incident number</th>\n",
       "      <th>Incident nature</th>\n",
       "      <th>Area location code</th>\n",
       "      <th>Incident address</th>\n",
       "      <th>When reported</th>\n",
       "      <th>Occurred after</th>\n",
       "      <th>Occurred before</th>\n",
       "      <th>City</th>\n",
       "      <th>Offense code</th>\n",
       "      <th>Offense code.1</th>\n",
       "      <th>Offense code.2</th>\n",
       "      <th>Disposition</th>\n",
       "    </tr>\n",
       "  </thead>\n",
       "  <tbody>\n",
       "    <tr>\n",
       "      <th>0</th>\n",
       "      <td>23F000001</td>\n",
       "      <td>113 SHOTS FIRED</td>\n",
       "      <td>F11A5</td>\n",
       "      <td>1945 GRISWOLD DR</td>\n",
       "      <td>1/1/2023 0:01</td>\n",
       "      <td>1/1/2023 0:00</td>\n",
       "      <td>1/1/2023 0:00</td>\n",
       "      <td>FORT WAYNE</td>\n",
       "      <td>113</td>\n",
       "      <td></td>\n",
       "      <td></td>\n",
       "      <td>UNF</td>\n",
       "    </tr>\n",
       "    <tr>\n",
       "      <th>1</th>\n",
       "      <td>23F000003</td>\n",
       "      <td>113 SHOTS FIRED</td>\n",
       "      <td>F41B5</td>\n",
       "      <td>WINTER ST &amp; E LEWIS ST</td>\n",
       "      <td>1/1/2023 0:02</td>\n",
       "      <td>1/1/2023 0:02</td>\n",
       "      <td>1/1/2023 0:02</td>\n",
       "      <td>FORT WAYNE</td>\n",
       "      <td>113</td>\n",
       "      <td></td>\n",
       "      <td></td>\n",
       "      <td>INA</td>\n",
       "    </tr>\n",
       "    <tr>\n",
       "      <th>2</th>\n",
       "      <td>23F000004</td>\n",
       "      <td>43,62</td>\n",
       "      <td>F1643</td>\n",
       "      <td>2737 W WASHINGTON CENTER RD</td>\n",
       "      <td>1/1/2023 0:06</td>\n",
       "      <td>1/1/2023 0:05</td>\n",
       "      <td>1/1/2023 0:05</td>\n",
       "      <td>FORT WAYNE</td>\n",
       "      <td>DFCL</td>\n",
       "      <td>CDIS</td>\n",
       "      <td></td>\n",
       "      <td>R</td>\n",
       "    </tr>\n",
       "    <tr>\n",
       "      <th>3</th>\n",
       "      <td>23F000005</td>\n",
       "      <td>113 SHOTS FIRED</td>\n",
       "      <td>F42A5</td>\n",
       "      <td>305 E DEWALD ST</td>\n",
       "      <td>1/1/2023 0:01</td>\n",
       "      <td>1/1/2023 0:00</td>\n",
       "      <td>1/1/2023 0:00</td>\n",
       "      <td>FORT WAYNE</td>\n",
       "      <td>113</td>\n",
       "      <td></td>\n",
       "      <td></td>\n",
       "      <td>INA</td>\n",
       "    </tr>\n",
       "    <tr>\n",
       "      <th>4</th>\n",
       "      <td>23F000006</td>\n",
       "      <td>48 SUSPICIOUS</td>\n",
       "      <td>F32D5</td>\n",
       "      <td>3410 S CALHOUN ST</td>\n",
       "      <td>1/1/2023 0:10</td>\n",
       "      <td>1/1/2023 0:08</td>\n",
       "      <td>1/1/2023 0:08</td>\n",
       "      <td>FORT WAYNE</td>\n",
       "      <td>48</td>\n",
       "      <td></td>\n",
       "      <td></td>\n",
       "      <td>INA</td>\n",
       "    </tr>\n",
       "    <tr>\n",
       "      <th>5</th>\n",
       "      <td>23F000007</td>\n",
       "      <td>70 FIRE</td>\n",
       "      <td>F23N1</td>\n",
       "      <td>7201 MIAHQUEAH Ct</td>\n",
       "      <td>1/1/2023 0:20</td>\n",
       "      <td>1/1/2023 0:18</td>\n",
       "      <td>1/1/2023 0:18</td>\n",
       "      <td>FORT WAYNE</td>\n",
       "      <td>70</td>\n",
       "      <td></td>\n",
       "      <td></td>\n",
       "      <td>INA</td>\n",
       "    </tr>\n",
       "  </tbody>\n",
       "</table>\n",
       "</div>"
      ],
      "text/plain": [
       "  Incident number  Incident nature Area location code  \\\n",
       "0       23F000001  113 SHOTS FIRED              F11A5   \n",
       "1       23F000003  113 SHOTS FIRED              F41B5   \n",
       "2       23F000004  43,62                        F1643   \n",
       "3       23F000005  113 SHOTS FIRED              F42A5   \n",
       "4       23F000006  48 SUSPICIOUS                F32D5   \n",
       "5       23F000007  70 FIRE                      F23N1   \n",
       "\n",
       "                          Incident address  When reported Occurred after  \\\n",
       "0  1945 GRISWOLD DR                         1/1/2023 0:01  1/1/2023 0:00   \n",
       "1  WINTER ST & E LEWIS ST                   1/1/2023 0:02  1/1/2023 0:02   \n",
       "2              2737 W WASHINGTON CENTER RD  1/1/2023 0:06  1/1/2023 0:05   \n",
       "3  305 E DEWALD ST                          1/1/2023 0:01  1/1/2023 0:00   \n",
       "4                        3410 S CALHOUN ST  1/1/2023 0:10  1/1/2023 0:08   \n",
       "5                        7201 MIAHQUEAH Ct  1/1/2023 0:20  1/1/2023 0:18   \n",
       "\n",
       "  Occurred before             City Offense code Offense code.1 Offense code.2  \\\n",
       "0   1/1/2023 0:00  FORT WAYNE               113                                 \n",
       "1   1/1/2023 0:02  FORT WAYNE               113                                 \n",
       "2   1/1/2023 0:05  FORT WAYNE              DFCL           CDIS                  \n",
       "3   1/1/2023 0:00  FORT WAYNE               113                                 \n",
       "4   1/1/2023 0:08  FORT WAYNE                48                                 \n",
       "5   1/1/2023 0:18  FORT WAYNE                70                                 \n",
       "\n",
       "  Disposition  \n",
       "0         UNF  \n",
       "1         INA  \n",
       "2         R    \n",
       "3         INA  \n",
       "4         INA  \n",
       "5         INA  "
      ]
     },
     "execution_count": 2,
     "metadata": {},
     "output_type": "execute_result"
    }
   ],
   "source": [
    "yr2023 = pd.read_csv('C:/Users/madel/Documents/CRIME/fortwayne2023.csv')\n",
    "yr2023.head(6)                     "
   ]
  },
  {
   "cell_type": "code",
   "execution_count": 3,
   "metadata": {},
   "outputs": [
    {
     "data": {
      "text/html": [
       "<div>\n",
       "<style scoped>\n",
       "    .dataframe tbody tr th:only-of-type {\n",
       "        vertical-align: middle;\n",
       "    }\n",
       "\n",
       "    .dataframe tbody tr th {\n",
       "        vertical-align: top;\n",
       "    }\n",
       "\n",
       "    .dataframe thead th {\n",
       "        text-align: right;\n",
       "    }\n",
       "</style>\n",
       "<table border=\"1\" class=\"dataframe\">\n",
       "  <thead>\n",
       "    <tr style=\"text-align: right;\">\n",
       "      <th></th>\n",
       "      <th>0</th>\n",
       "    </tr>\n",
       "  </thead>\n",
       "  <tbody>\n",
       "    <tr>\n",
       "      <th>0</th>\n",
       "      <td>113</td>\n",
       "    </tr>\n",
       "    <tr>\n",
       "      <th>1</th>\n",
       "      <td>113</td>\n",
       "    </tr>\n",
       "    <tr>\n",
       "      <th>2</th>\n",
       "      <td>43</td>\n",
       "    </tr>\n",
       "    <tr>\n",
       "      <th>3</th>\n",
       "      <td>113</td>\n",
       "    </tr>\n",
       "    <tr>\n",
       "      <th>4</th>\n",
       "      <td>48</td>\n",
       "    </tr>\n",
       "    <tr>\n",
       "      <th>...</th>\n",
       "      <td>...</td>\n",
       "    </tr>\n",
       "    <tr>\n",
       "      <th>154473</th>\n",
       "      <td>111</td>\n",
       "    </tr>\n",
       "    <tr>\n",
       "      <th>154474</th>\n",
       "      <td>111</td>\n",
       "    </tr>\n",
       "    <tr>\n",
       "      <th>154475</th>\n",
       "      <td>111</td>\n",
       "    </tr>\n",
       "    <tr>\n",
       "      <th>154476</th>\n",
       "      <td>48</td>\n",
       "    </tr>\n",
       "    <tr>\n",
       "      <th>154477</th>\n",
       "      <td>113</td>\n",
       "    </tr>\n",
       "  </tbody>\n",
       "</table>\n",
       "<p>154478 rows × 1 columns</p>\n",
       "</div>"
      ],
      "text/plain": [
       "          0\n",
       "0       113\n",
       "1       113\n",
       "2        43\n",
       "3       113\n",
       "4        48\n",
       "...     ...\n",
       "154473  111\n",
       "154474  111\n",
       "154475  111\n",
       "154476   48\n",
       "154477  113\n",
       "\n",
       "[154478 rows x 1 columns]"
      ]
     },
     "execution_count": 3,
     "metadata": {},
     "output_type": "execute_result"
    }
   ],
   "source": [
    "yr2023[\"Incident nature\"].str.extract(r'(\\d*)')"
   ]
  },
  {
   "cell_type": "markdown",
   "metadata": {},
   "source": [
    "##### determining violent/non violent crimes"
   ]
  },
  {
   "cell_type": "code",
   "execution_count": 4,
   "metadata": {},
   "outputs": [
    {
     "data": {
      "text/html": [
       "<div>\n",
       "<style scoped>\n",
       "    .dataframe tbody tr th:only-of-type {\n",
       "        vertical-align: middle;\n",
       "    }\n",
       "\n",
       "    .dataframe tbody tr th {\n",
       "        vertical-align: top;\n",
       "    }\n",
       "\n",
       "    .dataframe thead th {\n",
       "        text-align: right;\n",
       "    }\n",
       "</style>\n",
       "<table border=\"1\" class=\"dataframe\">\n",
       "  <thead>\n",
       "    <tr style=\"text-align: right;\">\n",
       "      <th></th>\n",
       "      <th>Incident number</th>\n",
       "      <th>Incident nature</th>\n",
       "      <th>Area location code</th>\n",
       "      <th>Incident address</th>\n",
       "      <th>When reported</th>\n",
       "      <th>Occurred after</th>\n",
       "      <th>Occurred before</th>\n",
       "      <th>City</th>\n",
       "      <th>Offense code</th>\n",
       "      <th>Offense code.1</th>\n",
       "      <th>Offense code.2</th>\n",
       "      <th>Disposition</th>\n",
       "      <th>Incident nature #</th>\n",
       "    </tr>\n",
       "  </thead>\n",
       "  <tbody>\n",
       "    <tr>\n",
       "      <th>0</th>\n",
       "      <td>23F000001</td>\n",
       "      <td>SHOTS FIRED</td>\n",
       "      <td>F11A5</td>\n",
       "      <td>1945 GRISWOLD DR</td>\n",
       "      <td>1/1/2023 0:01</td>\n",
       "      <td>1/1/2023 0:00</td>\n",
       "      <td>1/1/2023 0:00</td>\n",
       "      <td>FORT WAYNE</td>\n",
       "      <td>113</td>\n",
       "      <td></td>\n",
       "      <td></td>\n",
       "      <td>UNF</td>\n",
       "      <td>113</td>\n",
       "    </tr>\n",
       "    <tr>\n",
       "      <th>1</th>\n",
       "      <td>23F000003</td>\n",
       "      <td>SHOTS FIRED</td>\n",
       "      <td>F41B5</td>\n",
       "      <td>WINTER ST &amp; E LEWIS ST</td>\n",
       "      <td>1/1/2023 0:02</td>\n",
       "      <td>1/1/2023 0:02</td>\n",
       "      <td>1/1/2023 0:02</td>\n",
       "      <td>FORT WAYNE</td>\n",
       "      <td>113</td>\n",
       "      <td></td>\n",
       "      <td></td>\n",
       "      <td>INA</td>\n",
       "      <td>113</td>\n",
       "    </tr>\n",
       "    <tr>\n",
       "      <th>2</th>\n",
       "      <td>23F000004</td>\n",
       "      <td></td>\n",
       "      <td>F1643</td>\n",
       "      <td>2737 W WASHINGTON CENTER RD</td>\n",
       "      <td>1/1/2023 0:06</td>\n",
       "      <td>1/1/2023 0:05</td>\n",
       "      <td>1/1/2023 0:05</td>\n",
       "      <td>FORT WAYNE</td>\n",
       "      <td>DFCL</td>\n",
       "      <td>CDIS</td>\n",
       "      <td></td>\n",
       "      <td>R</td>\n",
       "      <td>43</td>\n",
       "    </tr>\n",
       "    <tr>\n",
       "      <th>3</th>\n",
       "      <td>23F000005</td>\n",
       "      <td>SHOTS FIRED</td>\n",
       "      <td>F42A5</td>\n",
       "      <td>305 E DEWALD ST</td>\n",
       "      <td>1/1/2023 0:01</td>\n",
       "      <td>1/1/2023 0:00</td>\n",
       "      <td>1/1/2023 0:00</td>\n",
       "      <td>FORT WAYNE</td>\n",
       "      <td>113</td>\n",
       "      <td></td>\n",
       "      <td></td>\n",
       "      <td>INA</td>\n",
       "      <td>113</td>\n",
       "    </tr>\n",
       "    <tr>\n",
       "      <th>4</th>\n",
       "      <td>23F000006</td>\n",
       "      <td>SUSPICIOUS</td>\n",
       "      <td>F32D5</td>\n",
       "      <td>3410 S CALHOUN ST</td>\n",
       "      <td>1/1/2023 0:10</td>\n",
       "      <td>1/1/2023 0:08</td>\n",
       "      <td>1/1/2023 0:08</td>\n",
       "      <td>FORT WAYNE</td>\n",
       "      <td>48</td>\n",
       "      <td></td>\n",
       "      <td></td>\n",
       "      <td>INA</td>\n",
       "      <td>48</td>\n",
       "    </tr>\n",
       "  </tbody>\n",
       "</table>\n",
       "</div>"
      ],
      "text/plain": [
       "  Incident number Incident nature Area location code  \\\n",
       "0       23F000001     SHOTS FIRED              F11A5   \n",
       "1       23F000003     SHOTS FIRED              F41B5   \n",
       "2       23F000004                              F1643   \n",
       "3       23F000005     SHOTS FIRED              F42A5   \n",
       "4       23F000006    SUSPICIOUS                F32D5   \n",
       "\n",
       "                          Incident address  When reported Occurred after  \\\n",
       "0  1945 GRISWOLD DR                         1/1/2023 0:01  1/1/2023 0:00   \n",
       "1  WINTER ST & E LEWIS ST                   1/1/2023 0:02  1/1/2023 0:02   \n",
       "2              2737 W WASHINGTON CENTER RD  1/1/2023 0:06  1/1/2023 0:05   \n",
       "3  305 E DEWALD ST                          1/1/2023 0:01  1/1/2023 0:00   \n",
       "4                        3410 S CALHOUN ST  1/1/2023 0:10  1/1/2023 0:08   \n",
       "\n",
       "  Occurred before             City Offense code Offense code.1 Offense code.2  \\\n",
       "0   1/1/2023 0:00  FORT WAYNE               113                                 \n",
       "1   1/1/2023 0:02  FORT WAYNE               113                                 \n",
       "2   1/1/2023 0:05  FORT WAYNE              DFCL           CDIS                  \n",
       "3   1/1/2023 0:00  FORT WAYNE               113                                 \n",
       "4   1/1/2023 0:08  FORT WAYNE                48                                 \n",
       "\n",
       "  Disposition Incident nature #  \n",
       "0         UNF               113  \n",
       "1         INA               113  \n",
       "2         R                  43  \n",
       "3         INA               113  \n",
       "4         INA                48  "
      ]
     },
     "execution_count": 4,
     "metadata": {},
     "output_type": "execute_result"
    }
   ],
   "source": [
    "yr2023[\"Incident nature #\"] = yr2023[\"Incident nature\"].str.extract(r'(\\d*)')\n",
    "yr2023[\"Incident nature\"] = yr2023[\"Incident nature\"].str.extract(r'([a-z|\\s]+)', flags = re.IGNORECASE)\n",
    "yr2023[\"Incident nature\"].str.strip('\\s')\n",
    "yr2023.head()"
   ]
  },
  {
   "cell_type": "code",
   "execution_count": 5,
   "metadata": {},
   "outputs": [],
   "source": [
    "#incident = list(yr2023[\"Incident nature\"].unique())\n",
    "#incident = [str(x).strip(' ') for x in incident]"
   ]
  },
  {
   "cell_type": "code",
   "execution_count": 6,
   "metadata": {},
   "outputs": [],
   "source": [
    "#filename = 'C:/Users/madel/Documents/CRIME/incident_list.txt'\n",
    "#with open(filename, 'w') as outfile:\n",
    "#    for item in incident:\n",
    "#        # write each item on a new line\n",
    "#        outfile.write(\"%s\\n\" % item)"
   ]
  },
  {
   "cell_type": "code",
   "execution_count": 7,
   "metadata": {},
   "outputs": [],
   "source": [
    "#non violent list: SUSPICIOUS, FIRE, VAND VEH, CUTTING, T SUICIDE THR, RAPE, FIGHT, THEFT, ARMED ROB,\n",
    "#BATTERY, A SUICIDE ATT, MAN DOWN, BOMB THREAT, SHOOTING, PARTY ARMED, I INTRUSION, N CHILD NEGLE,\n",
    "#MOLESTING, \n",
    "#idk list: \" \", nan,\n",
    "#PLACES (why????): GRABILL, WOODBURN, MONROEVILLE"
   ]
  },
  {
   "cell_type": "markdown",
   "metadata": {},
   "source": [
    "#### nan values"
   ]
  },
  {
   "cell_type": "code",
   "execution_count": 8,
   "metadata": {},
   "outputs": [
    {
     "data": {
      "text/html": [
       "<div>\n",
       "<style scoped>\n",
       "    .dataframe tbody tr th:only-of-type {\n",
       "        vertical-align: middle;\n",
       "    }\n",
       "\n",
       "    .dataframe tbody tr th {\n",
       "        vertical-align: top;\n",
       "    }\n",
       "\n",
       "    .dataframe thead th {\n",
       "        text-align: right;\n",
       "    }\n",
       "</style>\n",
       "<table border=\"1\" class=\"dataframe\">\n",
       "  <thead>\n",
       "    <tr style=\"text-align: right;\">\n",
       "      <th></th>\n",
       "      <th>Incident number</th>\n",
       "      <th>Incident nature</th>\n",
       "      <th>Area location code</th>\n",
       "      <th>Incident address</th>\n",
       "      <th>When reported</th>\n",
       "      <th>Occurred after</th>\n",
       "      <th>Occurred before</th>\n",
       "      <th>City</th>\n",
       "      <th>Offense code</th>\n",
       "      <th>Offense code.1</th>\n",
       "      <th>Offense code.2</th>\n",
       "      <th>Disposition</th>\n",
       "      <th>Incident nature #</th>\n",
       "    </tr>\n",
       "  </thead>\n",
       "  <tbody>\n",
       "    <tr>\n",
       "      <th>0</th>\n",
       "      <td>23F000001</td>\n",
       "      <td>SHOTS FIRED</td>\n",
       "      <td>F11A5</td>\n",
       "      <td>1945 GRISWOLD DR</td>\n",
       "      <td>1/1/2023 0:01</td>\n",
       "      <td>1/1/2023 0:00</td>\n",
       "      <td>1/1/2023 0:00</td>\n",
       "      <td>FORT WAYNE</td>\n",
       "      <td>113</td>\n",
       "      <td>NaN</td>\n",
       "      <td>NaN</td>\n",
       "      <td>UNF</td>\n",
       "      <td>113</td>\n",
       "    </tr>\n",
       "    <tr>\n",
       "      <th>1</th>\n",
       "      <td>23F000003</td>\n",
       "      <td>SHOTS FIRED</td>\n",
       "      <td>F41B5</td>\n",
       "      <td>WINTER ST &amp; E LEWIS ST</td>\n",
       "      <td>1/1/2023 0:02</td>\n",
       "      <td>1/1/2023 0:02</td>\n",
       "      <td>1/1/2023 0:02</td>\n",
       "      <td>FORT WAYNE</td>\n",
       "      <td>113</td>\n",
       "      <td>NaN</td>\n",
       "      <td>NaN</td>\n",
       "      <td>INA</td>\n",
       "      <td>113</td>\n",
       "    </tr>\n",
       "    <tr>\n",
       "      <th>2</th>\n",
       "      <td>23F000004</td>\n",
       "      <td>NaN</td>\n",
       "      <td>F1643</td>\n",
       "      <td>2737 W WASHINGTON CENTER RD</td>\n",
       "      <td>1/1/2023 0:06</td>\n",
       "      <td>1/1/2023 0:05</td>\n",
       "      <td>1/1/2023 0:05</td>\n",
       "      <td>FORT WAYNE</td>\n",
       "      <td>DFCL</td>\n",
       "      <td>CDIS</td>\n",
       "      <td>NaN</td>\n",
       "      <td>R</td>\n",
       "      <td>43</td>\n",
       "    </tr>\n",
       "    <tr>\n",
       "      <th>3</th>\n",
       "      <td>23F000005</td>\n",
       "      <td>SHOTS FIRED</td>\n",
       "      <td>F42A5</td>\n",
       "      <td>305 E DEWALD ST</td>\n",
       "      <td>1/1/2023 0:01</td>\n",
       "      <td>1/1/2023 0:00</td>\n",
       "      <td>1/1/2023 0:00</td>\n",
       "      <td>FORT WAYNE</td>\n",
       "      <td>113</td>\n",
       "      <td>NaN</td>\n",
       "      <td>NaN</td>\n",
       "      <td>INA</td>\n",
       "      <td>113</td>\n",
       "    </tr>\n",
       "    <tr>\n",
       "      <th>4</th>\n",
       "      <td>23F000006</td>\n",
       "      <td>SUSPICIOUS</td>\n",
       "      <td>F32D5</td>\n",
       "      <td>3410 S CALHOUN ST</td>\n",
       "      <td>1/1/2023 0:10</td>\n",
       "      <td>1/1/2023 0:08</td>\n",
       "      <td>1/1/2023 0:08</td>\n",
       "      <td>FORT WAYNE</td>\n",
       "      <td>48</td>\n",
       "      <td>NaN</td>\n",
       "      <td>NaN</td>\n",
       "      <td>INA</td>\n",
       "      <td>48</td>\n",
       "    </tr>\n",
       "    <tr>\n",
       "      <th>5</th>\n",
       "      <td>23F000007</td>\n",
       "      <td>FIRE</td>\n",
       "      <td>F23N1</td>\n",
       "      <td>7201 MIAHQUEAH Ct</td>\n",
       "      <td>1/1/2023 0:20</td>\n",
       "      <td>1/1/2023 0:18</td>\n",
       "      <td>1/1/2023 0:18</td>\n",
       "      <td>FORT WAYNE</td>\n",
       "      <td>70</td>\n",
       "      <td>NaN</td>\n",
       "      <td>NaN</td>\n",
       "      <td>INA</td>\n",
       "      <td>70</td>\n",
       "    </tr>\n",
       "  </tbody>\n",
       "</table>\n",
       "</div>"
      ],
      "text/plain": [
       "  Incident number Incident nature Area location code  \\\n",
       "0       23F000001     SHOTS FIRED              F11A5   \n",
       "1       23F000003     SHOTS FIRED              F41B5   \n",
       "2       23F000004             NaN              F1643   \n",
       "3       23F000005     SHOTS FIRED              F42A5   \n",
       "4       23F000006    SUSPICIOUS                F32D5   \n",
       "5       23F000007    FIRE                      F23N1   \n",
       "\n",
       "                          Incident address  When reported Occurred after  \\\n",
       "0  1945 GRISWOLD DR                         1/1/2023 0:01  1/1/2023 0:00   \n",
       "1  WINTER ST & E LEWIS ST                   1/1/2023 0:02  1/1/2023 0:02   \n",
       "2              2737 W WASHINGTON CENTER RD  1/1/2023 0:06  1/1/2023 0:05   \n",
       "3  305 E DEWALD ST                          1/1/2023 0:01  1/1/2023 0:00   \n",
       "4                        3410 S CALHOUN ST  1/1/2023 0:10  1/1/2023 0:08   \n",
       "5                        7201 MIAHQUEAH Ct  1/1/2023 0:20  1/1/2023 0:18   \n",
       "\n",
       "  Occurred before             City Offense code Offense code.1 Offense code.2  \\\n",
       "0   1/1/2023 0:00  FORT WAYNE               113            NaN            NaN   \n",
       "1   1/1/2023 0:02  FORT WAYNE               113            NaN            NaN   \n",
       "2   1/1/2023 0:05  FORT WAYNE              DFCL           CDIS            NaN   \n",
       "3   1/1/2023 0:00  FORT WAYNE               113            NaN            NaN   \n",
       "4   1/1/2023 0:08  FORT WAYNE                48            NaN            NaN   \n",
       "5   1/1/2023 0:18  FORT WAYNE                70            NaN            NaN   \n",
       "\n",
       "  Disposition Incident nature #  \n",
       "0         UNF               113  \n",
       "1         INA               113  \n",
       "2         R                  43  \n",
       "3         INA               113  \n",
       "4         INA                48  \n",
       "5         INA                70  "
      ]
     },
     "execution_count": 8,
     "metadata": {},
     "output_type": "execute_result"
    }
   ],
   "source": [
    "yr2023.replace(r'^\\s*$', np.nan, regex=True, inplace=True)\n",
    "yr2023.head(6)"
   ]
  },
  {
   "cell_type": "code",
   "execution_count": 9,
   "metadata": {},
   "outputs": [
    {
     "data": {
      "text/plain": [
       "Incident number            0\n",
       "Incident nature        17791\n",
       "Area location code       844\n",
       "Incident address         202\n",
       "When reported              0\n",
       "Occurred after             0\n",
       "Occurred before            0\n",
       "City                     286\n",
       "Offense code            2547\n",
       "Offense code.1        145360\n",
       "Offense code.2        151993\n",
       "Disposition              284\n",
       "Incident nature #       2807\n",
       "dtype: int64"
      ]
     },
     "execution_count": 9,
     "metadata": {},
     "output_type": "execute_result"
    }
   ],
   "source": [
    "yr2023.isna().sum()"
   ]
  },
  {
   "cell_type": "code",
   "execution_count": 10,
   "metadata": {},
   "outputs": [
    {
     "data": {
      "text/plain": [
       "201"
      ]
     },
     "execution_count": 10,
     "metadata": {},
     "output_type": "execute_result"
    }
   ],
   "source": [
    "len(yr2023[yr2023.City.isna() & yr2023[\"Incident address\"].isna() & yr2023[\"Area location code\"].isna()])"
   ]
  },
  {
   "cell_type": "markdown",
   "metadata": {},
   "source": [
    "#### visualizations"
   ]
  },
  {
   "cell_type": "code",
   "execution_count": 11,
   "metadata": {},
   "outputs": [
    {
     "data": {
      "text/plain": [
       "0                    1945 GRISWOLD DR IN\n",
       "1                           WINTER ST IN\n",
       "2         2737 W WASHINGTON CENTER RD IN\n",
       "3                     305 E DEWALD ST IN\n",
       "4                   3410 S CALHOUN ST IN\n",
       "                       ...              \n",
       "154473            3892 COBBLESTONE CV IN\n",
       "154474                 3228 OLIVER ST IN\n",
       "154475            444 W CREIGHTON AVE IN\n",
       "154476              3112 PITTSBURG ST IN\n",
       "154477               3430 RAYMOND AVE IN\n",
       "Name: Incident address, Length: 154478, dtype: object"
      ]
     },
     "execution_count": 11,
     "metadata": {},
     "output_type": "execute_result"
    }
   ],
   "source": [
    "#formatting addresses for nominatim program\n",
    "#removing \"& [address street name]\" (not accepted format for nominatim)\n",
    "yr2023[\"Incident address\"] = yr2023[\"Incident address\"].str.replace(r\"& .*  \",\"\",regex=True)\n",
    "yr2023[\"Incident address\"] = yr2023[\"Incident address\"].str.strip() + \" IN\"\n",
    "yr2023[\"Incident address\"]"
   ]
  },
  {
   "cell_type": "code",
   "execution_count": 12,
   "metadata": {},
   "outputs": [],
   "source": [
    "yr2023[\"Incident address\"][1] = \"E LEWIS ST IN\"\n",
    "yr2023[\"Incident address\"][2] = \"2737 WASHINGTON RD IN\"\n",
    "#removing apartment number (not accepted format for nominatim)\n",
    "yr2023[\"Incident address\"] = yr2023[\"Incident address\"].str.replace(r\"APT \\d+([A-Z]+)? \",\"\",regex=True)"
   ]
  },
  {
   "cell_type": "code",
   "execution_count": 13,
   "metadata": {},
   "outputs": [
    {
     "data": {
      "text/plain": [
       "'530 W BERRY ST IN'"
      ]
     },
     "execution_count": 13,
     "metadata": {},
     "output_type": "execute_result"
    }
   ],
   "source": [
    "#re.sub(r\"APT \\d+[A-Z]+\",\"\", \"530 W BERRY ST APT 211 IN\")\n",
    "re.sub(r\"APT \\d+([A-Z]+)? \",\"\", \"530 W BERRY ST APT 211 IN\")"
   ]
  },
  {
   "cell_type": "code",
   "execution_count": 14,
   "metadata": {},
   "outputs": [
    {
     "data": {
      "text/plain": [
       "'530 W BERRY ST IN'"
      ]
     },
     "execution_count": 14,
     "metadata": {},
     "output_type": "execute_result"
    }
   ],
   "source": [
    "yr2023[\"Incident address\"][2036]"
   ]
  },
  {
   "cell_type": "code",
   "execution_count": 15,
   "metadata": {},
   "outputs": [
    {
     "data": {
      "text/plain": [
       "0            1945 GRISWOLD DR IN\n",
       "1                  E LEWIS ST IN\n",
       "2          2737 WASHINGTON RD IN\n",
       "3             305 E DEWALD ST IN\n",
       "4           3410 S CALHOUN ST IN\n",
       "                   ...          \n",
       "154473    3892 COBBLESTONE CV IN\n",
       "154474         3228 OLIVER ST IN\n",
       "154475    444 W CREIGHTON AVE IN\n",
       "154476      3112 PITTSBURG ST IN\n",
       "154477       3430 RAYMOND AVE IN\n",
       "Name: Incident address, Length: 154478, dtype: object"
      ]
     },
     "execution_count": 15,
     "metadata": {},
     "output_type": "execute_result"
    }
   ],
   "source": [
    "yr2023[\"Incident address\"].str.replace(\"& .*\", \"\", regex=True)"
   ]
  },
  {
   "cell_type": "code",
   "execution_count": 16,
   "metadata": {},
   "outputs": [],
   "source": [
    "addres = []\n",
    "for ad in yr2023[\"Incident address\"].str.split('&').str[0]:\n",
    "    addres.append(ad)"
   ]
  },
  {
   "cell_type": "code",
   "execution_count": 17,
   "metadata": {},
   "outputs": [],
   "source": [
    "yr2023[\"Incident address\"] = addres"
   ]
  },
  {
   "cell_type": "code",
   "execution_count": 18,
   "metadata": {},
   "outputs": [],
   "source": [
    "yr2023[\"& exists\"] = yr2023[\"Incident address\"].agg(lambda x: x.str.contains('&'))"
   ]
  },
  {
   "cell_type": "code",
   "execution_count": 19,
   "metadata": {},
   "outputs": [
    {
     "data": {
      "text/plain": [
       "& exists\n",
       "False    154276\n",
       "Name: count, dtype: int64"
      ]
     },
     "execution_count": 19,
     "metadata": {},
     "output_type": "execute_result"
    }
   ],
   "source": [
    "yr2023[\"& exists\"].value_counts()"
   ]
  },
  {
   "cell_type": "code",
   "execution_count": 20,
   "metadata": {},
   "outputs": [
    {
     "data": {
      "text/plain": [
       "'S LAFAYETTE ST '"
      ]
     },
     "execution_count": 20,
     "metadata": {},
     "output_type": "execute_result"
    }
   ],
   "source": [
    "re.sub(r\"& .*\",\"\", \"S LAFAYETTE ST & 26 E RUDISILL BLVD IN\")"
   ]
  },
  {
   "cell_type": "code",
   "execution_count": 21,
   "metadata": {},
   "outputs": [],
   "source": [
    "#def do_geocode(address, geopy):\n",
    "#    try:\n",
    "#        return geopy.geocode(address)\n",
    "#    except GeocoderTimedOut:\n",
    "#        print(\"timeout reached\")\n",
    "#        sleep(1)\n",
    "#        return do_geocode(address)"
   ]
  },
  {
   "cell_type": "code",
   "execution_count": 22,
   "metadata": {},
   "outputs": [
    {
     "data": {
      "text/plain": [
       "36092"
      ]
     },
     "execution_count": 22,
     "metadata": {},
     "output_type": "execute_result"
    }
   ],
   "source": [
    "len(yr2023[\"Incident address\"].str.strip().unique())"
   ]
  },
  {
   "cell_type": "code",
   "execution_count": 23,
   "metadata": {},
   "outputs": [
    {
     "data": {
      "text/plain": [
       "36092"
      ]
     },
     "execution_count": 23,
     "metadata": {},
     "output_type": "execute_result"
    }
   ],
   "source": [
    "lat = []\n",
    "long = []\n",
    "add_pickle = open(\"C:/Users/madel/Documents/CRIME/address_coors.pickle\",\"rb\")\n",
    "add = pickle.load(add_pickle)\n",
    "NoneType = type(None)\n",
    "geopy = Nominatim(user_agent=\"emenma01@pfw.edu\")\n",
    "addresses = yr2023[\"Incident address\"].str.strip().unique().tolist()\n",
    "len(addresses)"
   ]
  },
  {
   "cell_type": "code",
   "execution_count": 24,
   "metadata": {},
   "outputs": [
    {
     "data": {
      "text/plain": [
       "1932"
      ]
     },
     "execution_count": 24,
     "metadata": {},
     "output_type": "execute_result"
    }
   ],
   "source": [
    "len(add)"
   ]
  },
  {
   "cell_type": "code",
   "execution_count": 25,
   "metadata": {},
   "outputs": [],
   "source": [
    "not_working = [\"1 UNF IN\", \"3 TX IN\", \"303 NORTHEAST DR IN\", \"3801 COLDWATER RD IN\", \"5417 N STONY RUN LN IN\", \"3005 S HARRISON ST IN\", \"5459 N CLINTON ST IN\", \"2737 W WASHINGTON CENTER RD LOT 118 IN\", \"200 E BERRY ST IN\"]"
   ]
  },
  {
   "cell_type": "code",
   "execution_count": 26,
   "metadata": {},
   "outputs": [
    {
     "ename": "KeyboardInterrupt",
     "evalue": "",
     "output_type": "error",
     "traceback": [
      "\u001b[1;31m---------------------------------------------------------------------------\u001b[0m",
      "\u001b[1;31mKeyboardInterrupt\u001b[0m                         Traceback (most recent call last)",
      "Cell \u001b[1;32mIn[26], line 22\u001b[0m\n\u001b[0;32m     20\u001b[0m \u001b[38;5;28;01mexcept\u001b[39;00m GeocoderUnavailable:\n\u001b[0;32m     21\u001b[0m     add[address] \u001b[38;5;241m=\u001b[39m (np\u001b[38;5;241m.\u001b[39mnan, np\u001b[38;5;241m.\u001b[39mnan)\n\u001b[1;32m---> 22\u001b[0m sleep(\u001b[38;5;241m1\u001b[39m)\n",
      "\u001b[1;31mKeyboardInterrupt\u001b[0m: "
     ]
    }
   ],
   "source": [
    "#geolocator = Nominatim(user_agent=\"emenma01@pfw.edu\")\n",
    "#yr2023[\"geocode\"] = yr2023[\"Incident address\"].apply(geolocator.geocode)\n",
    "#yr2023[\"lat\"] = location.latitude\n",
    "\n",
    "for i in range(len(add), len(addresses)):\n",
    "    address = addresses[i]\n",
    "    if address in add:\n",
    "        sleep(1)\n",
    "    elif address in not_working:\n",
    "        add[address] = (np.nan, np.nan)\n",
    "        sleep(1)   \n",
    "    else: \n",
    "        try: \n",
    "            coor = geopy.geocode(address)\n",
    "            if type(coor) != NoneType:\n",
    "                coor2 = (coor.latitude, coor.longitude)\n",
    "                add[address] = coor2\n",
    "            else:\n",
    "                add[address] = (np.nan, np.nan)\n",
    "        except GeocoderUnavailable:\n",
    "            add[address] = (np.nan, np.nan)\n",
    "        sleep(1)\n",
    "#plotly.express"
   ]
  },
  {
   "cell_type": "code",
   "execution_count": 27,
   "metadata": {},
   "outputs": [
    {
     "data": {
      "text/plain": [
       "2712"
      ]
     },
     "execution_count": 27,
     "metadata": {},
     "output_type": "execute_result"
    }
   ],
   "source": [
    "len(add)"
   ]
  },
  {
   "cell_type": "code",
   "execution_count": 28,
   "metadata": {},
   "outputs": [],
   "source": [
    "addcoors = open('C:/Users/madel/Documents/CRIME/address_coors1.pickle', 'wb')\n",
    "pickle.dump(add, addcoors)\n",
    "addcoors.close()"
   ]
  },
  {
   "cell_type": "code",
   "execution_count": null,
   "metadata": {},
   "outputs": [
    {
     "data": {
      "text/plain": [
       "{'1945 GRISWOLD DR IN': (41.0928334, -85.132773)}"
      ]
     },
     "execution_count": 59,
     "metadata": {},
     "output_type": "execute_result"
    }
   ],
   "source": [
    "coor = geopy.geocode(\"1945 GRISWOLD DR IN\")\n",
    "coor2 = (coor.latitude, coor.longitude)\n",
    "add2 = {}\n",
    "add2.update({'1945 GRISWOLD DR IN': coor2})\n",
    "add2"
   ]
  },
  {
   "cell_type": "code",
   "execution_count": null,
   "metadata": {},
   "outputs": [
    {
     "data": {
      "text/plain": [
       "41.0928334"
      ]
     },
     "execution_count": 60,
     "metadata": {},
     "output_type": "execute_result"
    }
   ],
   "source": [
    "add2.get('1945 GRISWOLD DR IN')[0]"
   ]
  },
  {
   "cell_type": "code",
   "execution_count": null,
   "metadata": {},
   "outputs": [],
   "source": [
    "occur = []\n",
    "for i in range(1,13):\n",
    "    occur.append(yr2023[\"When reported\"].str.contains(fr'^{i}').sum())"
   ]
  },
  {
   "cell_type": "code",
   "execution_count": null,
   "metadata": {},
   "outputs": [
    {
     "data": {
      "image/png": "[encoded data removed]",
      "text/plain": [
       "<Figure size 1000x500 with 1 Axes>"
      ]
     },
     "metadata": {},
     "output_type": "display_data"
    }
   ],
   "source": [
    "months = [\"Jan\", \"Feb\", \"Mar\", \"Apr\", \"May\", \"June\", \"July\", \"Aug\", \"Sept\",\n",
    "          \"Oct\", \"Nov\", \"Dec\"]\n",
    "fig = plt.figure(figsize = (10, 5))\n",
    "plt.bar(months, occur, color ='c', width = 0.4)\n",
    "plt.xlabel(\"Month\")\n",
    "plt.ylabel(\"Number of occurences\")\n",
    "plt.title(\"Report Occurences Per Month\")\n",
    "\n",
    "plt.plot(months, occur, color='k')\n",
    "\n",
    "plt.show()"
   ]
  }
 ],
 "metadata": {
  "kernelspec": {
   "display_name": "Python 3 (ipykernel)",
   "language": "python",
   "name": "python3"
  },
  "language_info": {
   "codemirror_mode": {
    "name": "ipython",
    "version": 3
   },
   "file_extension": ".py",
   "mimetype": "text/x-python",
   "name": "python",
   "nbconvert_exporter": "python",
   "pygments_lexer": "ipython3",
   "version": "3.11.5"
  }
 },
 "nbformat": 4,
 "nbformat_minor": 2
}
